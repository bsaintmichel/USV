{
 "cells": [
  {
   "cell_type": "markdown",
   "metadata": {},
   "source": [
    "## Plots\n",
    "\n",
    "* [Speckles](#speckles)\n",
    "* [Displacement maps](#displacement-maps)\n",
    "* [Displacement profiles](#displacement-profiles-and-comparison-with-matlab)\n",
    "* [Velocity maps](#velocity-maps)\n",
    "* [Velocity profiles](#velocity-profiles-and-comparison-with-matlab)"
   ]
  },
  {
   "cell_type": "code",
   "execution_count": null,
   "metadata": {},
   "outputs": [],
   "source": [
    "## Run this first\n",
    "\n",
    "# Imports\n",
    "import json\n",
    "import glob\n",
    "import numpy as np\n",
    "import matplotlib.pyplot as plt\n",
    "from scipy.io import loadmat\n",
    "from functions import *\n",
    "from ipywidgets import interact\n",
    "\n",
    "# Experiment to plot\n",
    "path = 'Data/gpt_150'\n",
    "ext = 'dbf' # \"dat\" for raw speckles, \"dbf\" for beamformed speckles\n",
    "x_type = 'time' # pixels or time"
   ]
  },
  {
   "cell_type": "markdown",
   "metadata": {},
   "source": [
    "### Speckles"
   ]
  },
  {
   "cell_type": "code",
   "execution_count": null,
   "metadata": {},
   "outputs": [],
   "source": [
    "%matplotlib widget\n",
    "\n",
    "\n",
    "# Load the data\n",
    "config = json.load(open(path + '/config_calcul.json'))\n",
    "batch_size = min(config['npulses_total'],500)\n",
    "file_strs = find_files(path, ext=ext)\n",
    "file_handles = open_all(file_strs)\n",
    "speckles = read_map_batch(file_handles, n_pts=config['nx'], batch_size=batch_size, mode=ext)\n",
    "close_all(file_handles)\n",
    "\n",
    "nz, nr = config['nz'], config['nx']\n",
    "time_us = np.array(config['time_us'])\n",
    "x_scale = np.arange(config['left'],config['right']+1)\n",
    "if x_type == 'time': x_scale = time_us[x_scale]\n",
    "\n",
    "# Init plot\n",
    "fig, ax = plt.subplots(nrows=2, sharex=True)\n",
    "im = ax[0].imshow(speckles[0], vmin=-1000, vmax=1000)\n",
    "ln, = ax[1].plot(speckles[0,64,:])\n",
    "ro1, = ax[0].plot([config['right'],config['right']], [0, nz-1], 'r')\n",
    "ro2, = ax[1].plot([config['right'],config['right']], [-1000, 1000], 'r')\n",
    "tit = ax[0].set_title(f'Speckle {0}')\n",
    "ax[1].set_ylim([-1000,1000])\n",
    "\n",
    "# Formatting (static)\n",
    "ax[1].set_xlabel('Time (s) or pixel no')\n",
    "ax[0].set_ylabel('Channel')\n",
    "ax[1].set_position((0.10,0.10,0.8,0.13))\n",
    "ax[0].set_position((0.10,0.25,0.8,0.60))\n",
    "ax[0].set_aspect('auto')\n",
    "\n",
    "# Update function\n",
    "def update(sp_no=0, vamp=1000, rot_pos=config['right']):\n",
    "    im.set_data(speckles[sp_no])\n",
    "    ln.set_ydata(speckles[sp_no, 64,:])\n",
    "    im.set_clim(-vamp, vamp)\n",
    "    ro1.set_xdata([rot_pos, rot_pos])\n",
    "    ro2.set_xdata([rot_pos, rot_pos])\n",
    "    ax[1].set_ylim((-vamp, vamp))\n",
    "    tit.set_text(f'Speckle {sp_no}')\n",
    "\n",
    "interact(update, sp_no=(0, batch_size), vamp=(500,2000), rot_pos=(config['right']-100, config['right']+100));"
   ]
  },
  {
   "cell_type": "markdown",
   "metadata": {},
   "source": [
    "### Velocity maps"
   ]
  },
  {
   "cell_type": "code",
   "execution_count": null,
   "metadata": {},
   "outputs": [],
   "source": [
    "# Load data\n",
    "data = np.load(path + '/processed.npz')\n",
    "r_true, velocity = data['r_true'], data['velocity']\n",
    "hil, disp, score, ref = data['hil'], data['disp'], data['score'], data['ref']\n",
    "\n",
    "fig, ax = plt.subplots(ncols=3, nrows=2, sharey=True, sharex=True)\n",
    "extent = [r_true[0], r_true[-1], 0, config['nz']*config['dz']]\n",
    "ax[0,0].imshow(np.nanmean(velocity, axis=1), extent=extent)\n",
    "ax[0,1].imshow(hil.mean(axis=1), extent=extent)\n",
    "ax[0,2].imshow(np.nanmean(score, axis=1), extent=extent)\n",
    "ax[0,0].set_title('Avg. Disp')\n",
    "ax[0,1].set_title('Avg. Intensity')\n",
    "ax[0,2].set_title('Avg. Corr Score')\n",
    "ax[1,0].imshow(disp[:,0,:], extent=extent)\n",
    "ax[1,1].imshow(hil[:,0,:], extent=extent)\n",
    "ax[1,2].imshow(score[:,0,:], extent=extent)\n",
    "ax[1,0].set_title('Smp. Disp')\n",
    "ax[1,1].set_title('Smp. Intensity')\n",
    "ax[1,2].set_title('Smp. Corr Score')\n",
    "ax[1,0].set_xlabel('r (m)')\n",
    "ax[1,1].set_xlabel('r (m)')\n",
    "ax[1,2].set_xlabel('r (m)')\n",
    "ax[0,0].set_ylabel('z (m)')\n",
    "ax[1,0].set_ylabel('z (m)')\n",
    "\n",
    "for a in ax.flat:\n",
    "    a.set_aspect('auto')"
   ]
  },
  {
   "cell_type": "markdown",
   "metadata": {},
   "source": [
    "### Velocity\n",
    "\n",
    "As discussed in `Calib.ipynb`, There is a factor 1/2 in the velocity determination, present in Sébastien / Vincent / Thomas's code. I do not think this factor should be there based on the papers they wrote. It could be a mistake on their part, or an issue with my implementation (but I did really check for those $c_0/2$ instead of $c_0$). I am also putting it here when I plot the velocity."
   ]
  },
  {
   "cell_type": "code",
   "execution_count": null,
   "metadata": {},
   "outputs": [],
   "source": [
    "gpt = 5\n",
    "gap = 2 * 1e-3\n",
    "\n",
    "# Load data\n",
    "data = np.load(path + '/processed.npz')\n",
    "config\n",
    "r_true, velocity = data['r_true'], data['velocity']\n",
    "v_profile = np.nanmean(np.nanmean(velocity, axis=0), axis=0) / 2 # NOTE : see markdown above\n",
    "\n",
    "fig, ax = plt.subplots()\n",
    "ax.plot([1,0],[0,1], 'k:')\n",
    "ax.plot([1,1],[-0.1,1.1], 'k:')\n",
    "ax.plot([0,0],[-0.1,1.1], 'k:')\n",
    "ax.plot([-0.1,1.1], [0,0], 'k:')\n",
    "ax.plot([-0.1,1.1], [1,1], 'k:')\n",
    "ax.plot(r_true/gap, v_profile/(gap*gpt), 's', markerfacecolor='gray', markeredgecolor='black')\n",
    "ax.axis([-0.1,1.1,-0.1,1.1])\n",
    "ax.set_title(f'Velocity profile : {path}')\n",
    "ax.set_xlabel('$r / e$')\n",
    "ax.set_ylabel('$v / e \\\\dot\\\\gamma$');"
   ]
  },
  {
   "cell_type": "markdown",
   "metadata": {},
   "source": [
    "### Displacement profiles and comparison with MATLAB"
   ]
  },
  {
   "cell_type": "code",
   "execution_count": null,
   "metadata": {},
   "outputs": [],
   "source": [
    "dat = loadmat(path + '/Dpl.mat')\n",
    "h = loadmat(path + '/Concentration.mat')\n",
    "cc = loadmat(path + '/config_calcul.mat')\n",
    "\n",
    "dat = dat['Dpl']\n",
    "h = h['Hil_moy']\n",
    "\n",
    "dat[dat > 1e5] = np.nan\n",
    "mat_d_profile = np.nanmean(np.nanmean(dat, 2), 0)\n",
    "mat_h_profile = np.nanmean(np.nanmean(h, 2), 1) * 4096\n",
    "d_profile = np.nanmean(np.nanmean(disp, axis=0),axis=0)\n",
    "h_profile = hil.mean(axis=0).mean(axis=0)\n",
    "s_profile = score.mean(axis=0).mean(axis=0) \n",
    "\n",
    "x = np.arange(len(d_profile))\n",
    "\n",
    "fig, ax = plt.subplots(ncols=3, figsize=(10,3))\n",
    "ax[0].plot(mat_d_profile, '-+', label='MATLAB Ref')\n",
    "ax[0].plot(x+1,0.1+d_profile/1.1, 'r-x', label='Python')\n",
    "ax[1].plot(h_profile,  'r-+', label='Python')\n",
    "ax[1].plot(mat_h_profile,  '-x', label='MATLAB Ref')\n",
    "ax[2].plot(s_profile, '-+')\n",
    "ax[0].set_title('Displacement')\n",
    "ax[1].set_title('Intensity')\n",
    "ax[2].set_title('Corr Score');"
   ]
  }
 ],
 "metadata": {
  "kernelspec": {
   "display_name": "Python 3 (ipykernel)",
   "language": "python",
   "name": "python3"
  },
  "language_info": {
   "codemirror_mode": {
    "name": "ipython",
    "version": 3
   },
   "file_extension": ".py",
   "mimetype": "text/x-python",
   "name": "python",
   "nbconvert_exporter": "python",
   "pygments_lexer": "ipython3",
   "version": "3.11.9"
  }
 },
 "nbformat": 4,
 "nbformat_minor": 4
}
