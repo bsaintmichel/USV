{
 "cells": [
  {
   "cell_type": "markdown",
   "metadata": {},
   "source": [
    "### US data processing v. 2024\n",
    "\n"
   ]
  },
  {
   "cell_type": "code",
   "execution_count": null,
   "metadata": {},
   "outputs": [],
   "source": [
    "### Imports \n",
    "import os\n",
    "import numpy as np\n",
    "from functions import *\n",
    "from numba import cuda\n",
    "import json"
   ]
  },
  {
   "cell_type": "code",
   "execution_count": null,
   "metadata": {},
   "outputs": [],
   "source": [
    "# Global Parameter dictionary\n",
    "\n",
    "prms = dict(\n",
    "    window = 42, # Window size (in pixels)\n",
    "    stride = 14, # By how many pixels we move between final correlation data points\n",
    "    max_disp = 10, # Maximal displacement (in pixels) allowed between two frames\n",
    "    left = 0, # If you want to left trim your speckles \n",
    "    right = 540, # Right trim for your speckles (formerly `pos_rotor`, but now we are also trimming maps beyond it) \n",
    "    nchan_bf = 17, # Number of channels on which you do the beamforming ; note : it is one-sided (we will do +nchan above and +nchan below)\n",
    "    min_hil = 0.004*2048, # Minimum hilbert (think US) amplitude needed to validate a velocity point\n",
    "    min_corr_score = 0.65, # Minimum correlation amplitude between two signals to validate a velocity point\n",
    "    # do_cuda = cuda.is_available(),\n",
    "    do_cuda = False,\n",
    "    folder = 'Data',\n",
    "    acq_prefix = 'gpt_',\n",
    "    ref_path = None,\n",
    "    calib_path = 'Data/gpt_val.json',\n",
    "    redo_ref = False,\n",
    "    redo_bf = False,\n",
    "    redo_process = False\n",
    "    )"
   ]
  },
  {
   "cell_type": "code",
   "execution_count": null,
   "metadata": {},
   "outputs": [],
   "source": [
    "# Find all relevant acquisitions\n",
    "acq_paths = list(os.walk(prms['folder']))[0][1]\n",
    "acq_paths = [prms['folder'] + '/' + acq for acq in acq_paths if prms['acq_prefix'] in acq] # Subfolders of the main folder\n",
    "\n",
    "### Main programme\n",
    "for acq_path in acq_paths:\n",
    "    \n",
    "    if prms['ref_path'] is None: \n",
    "        ref_path = acq_path # Allows you to do \"self-references\"\n",
    "\n",
    "    # Fetching all files, updating config and displaying a few things\n",
    "    files = find_files(acq_path)\n",
    "    config = load_config(acq_path + '/config.mat')\n",
    "    ref_config = load_config(ref_path + '/config.mat')\n",
    "    config = update_config(config, prms, save_path=acq_path, ref_path=ref_path)\n",
    "    print_details(acq_path, config)\n",
    "\n",
    "    # # Processing \n",
    "    ref = make_ref(ref_path, ref_config, recompute=prms['redo_ref'])\n",
    "    bf_files = beamform(files, config, ref, recompute=prms['redo_bf'])\n",
    "    hil_all, disp_all, score_all = process(bf_files, config, recompute=prms['redo_process'])\n",
    "\n",
    "    # Validating and saving data\n",
    "    disp_valid = disp_all.copy()\n",
    "    too_weak = (0.5*(hil_all[:,:-1,:] + hil_all[:,1:,:]) < config['min_hil']) \n",
    "    not_correlated = (score_all < config['min_corr_score'])\n",
    "    disp_valid[too_weak | not_correlated] = np.nan\n",
    "\n",
    "    # Compute velocity\n",
    "    velocity = np.nan * np.ones_like(disp_valid)\n",
    "    r_true = np.nan * np.ones(velocity.shape[-1]) \n",
    "    if prms['calib_path'] is not None:\n",
    "        with open(prms['calib_path']) as myfile:\n",
    "            calib = json.load(myfile)\n",
    "        r_true, velocity, _, _, _ = calibrate_one(calib, config, disp=disp_valid)\n",
    "\n",
    "    # Save results\n",
    "    np.savez(acq_path + '/processed', r_true=r_true, hil=hil_all, disp=disp_valid, velocity=velocity, ref=ref, score=score_all)"
   ]
  }
 ],
 "metadata": {
  "kernelspec": {
   "display_name": "Python 3",
   "language": "python",
   "name": "python3"
  },
  "language_info": {
   "codemirror_mode": {
    "name": "ipython",
    "version": 3
   },
   "file_extension": ".py",
   "mimetype": "text/x-python",
   "name": "python",
   "nbconvert_exporter": "python",
   "pygments_lexer": "ipython3",
   "version": "3.11.9"
  }
 },
 "nbformat": 4,
 "nbformat_minor": 2
}
