{
 "cells": [
  {
   "cell_type": "markdown",
   "metadata": {},
   "source": [
    "### US data processing v. 2024\n",
    "\n"
   ]
  },
  {
   "cell_type": "code",
   "execution_count": 1,
   "metadata": {},
   "outputs": [],
   "source": [
    "### Imports \n",
    "import os\n",
    "import numpy as np\n",
    "from functions import *\n",
    "import torch\n",
    "import json"
   ]
  },
  {
   "cell_type": "code",
   "execution_count": 2,
   "metadata": {},
   "outputs": [],
   "source": [
    "# Global Parameter dictionary\n",
    "\n",
    "prms = dict(\n",
    "    window = 42, # Window size (in pixels)\n",
    "    stride = 14, # By how many pixels we move between final correlation data points\n",
    "    max_disp = 10, # Maximal displacement (in pixels) allowed between two frames\n",
    "    left = 0, # If you want to left trim your speckles \n",
    "    right = 540, # Right trim for your speckles (formerly `pos_rotor`, but now we are also trimming maps beyond it) \n",
    "    nchan_bf = 17, # Number of channels on which you do the beamforming ; note : it is one-sided (we will do +nchan above and +nchan below)\n",
    "    min_hil = 0.004*2048, # Minimum hilbert (think US) amplitude needed to validate a velocity point\n",
    "    min_corr_score = 0.65, # Minimum correlation amplitude between two signals to validate a velocity point\n",
    "    device = 'cuda' if torch.cuda.is_available() else 'cpu',\n",
    "    folder = 'Data',\n",
    "    acq_prefix = 'gpt_',\n",
    "    ref_path = None,\n",
    "    calib_path = 'Data/gpt_val.json',\n",
    "    redo_ref = True,\n",
    "    redo_bf = True,\n",
    "    redo_process = True\n",
    "    )"
   ]
  },
  {
   "cell_type": "code",
   "execution_count": 3,
   "metadata": {},
   "outputs": [
    {
     "name": "stdout",
     "output_type": "stream",
     "text": [
      "\n",
      "\n"
     ]
    },
    {
     "data": {
      "text/markdown": [
       "<span style='color:orange'>Processing d:\\Brice\\Python\\USV\\Data\\gpt_10 : **Using cpu**</span>"
      ],
      "text/plain": [
       "<IPython.core.display.Markdown object>"
      ]
     },
     "metadata": {},
     "output_type": "display_data"
    },
    {
     "data": {
      "text/markdown": [
       "Ref. used : d:\\Brice\\Python\\USV\\Data\\gpt_10"
      ],
      "text/plain": [
       "<IPython.core.display.Markdown object>"
      ]
     },
     "metadata": {},
     "output_type": "display_data"
    },
    {
     "data": {
      "text/markdown": [
       "Window size = 3.94 λ | Overlap 0.67 | Rotor position 540 px"
      ],
      "text/plain": [
       "<IPython.core.display.Markdown object>"
      ]
     },
     "metadata": {},
     "output_type": "display_data"
    },
    {
     "data": {
      "application/vnd.jupyter.widget-view+json": {
       "model_id": "5249446aebe1486ea25a473a32c614b7",
       "version_major": 2,
       "version_minor": 0
      },
      "text/plain": [
       "make_ref:   0%|          | 0/128 [00:00<?, ?it/s]"
      ]
     },
     "metadata": {},
     "output_type": "display_data"
    },
    {
     "data": {
      "application/vnd.jupyter.widget-view+json": {
       "model_id": "6cc10bf8206441ec9d1d3dad31ec18b3",
       "version_major": 2,
       "version_minor": 0
      },
      "text/plain": [
       "beamform:   0%|          | 0/5 [00:00<?, ?it/s]"
      ]
     },
     "metadata": {},
     "output_type": "display_data"
    },
    {
     "data": {
      "application/vnd.jupyter.widget-view+json": {
       "model_id": "9c49f5b86cb34b41b5e94684714d83ed",
       "version_major": 2,
       "version_minor": 0
      },
      "text/plain": [
       "process:   0%|          | 0/128 [00:00<?, ?it/s]"
      ]
     },
     "metadata": {},
     "output_type": "display_data"
    },
    {
     "data": {
      "text/markdown": [
       "Computing velocity with d:\\Brice\\Python\\USV\\Data\\gpt_val.json"
      ],
      "text/plain": [
       "<IPython.core.display.Markdown object>"
      ]
     },
     "metadata": {},
     "output_type": "display_data"
    },
    {
     "name": "stderr",
     "output_type": "stream",
     "text": [
      "d:\\Brice\\Python\\USV\\functions.py:444: RuntimeWarning: Mean of empty slice\n",
      "  v_mf = np.nanmean(velocity, axis=1)\n",
      "d:\\Brice\\Python\\USV\\functions.py:445: RuntimeWarning: Mean of empty slice\n",
      "  v_profile = np.nanmean(v_mf, axis=0)\n",
      "c:\\Users\\saint-michel\\AppData\\Local\\Programs\\Python\\Python311\\Lib\\site-packages\\numpy\\lib\\nanfunctions.py:1879: RuntimeWarning: Degrees of freedom <= 0 for slice.\n",
      "  var = nanvar(a, axis=axis, dtype=dtype, out=out, ddof=ddof,\n"
     ]
    },
    {
     "name": "stdout",
     "output_type": "stream",
     "text": [
      "\n",
      "\n"
     ]
    },
    {
     "data": {
      "text/markdown": [
       "<span style='color:orange'>Processing d:\\Brice\\Python\\USV\\Data\\gpt_15 : **Using cpu**</span>"
      ],
      "text/plain": [
       "<IPython.core.display.Markdown object>"
      ]
     },
     "metadata": {},
     "output_type": "display_data"
    },
    {
     "data": {
      "text/markdown": [
       "Ref. used : d:\\Brice\\Python\\USV\\Data\\gpt_15"
      ],
      "text/plain": [
       "<IPython.core.display.Markdown object>"
      ]
     },
     "metadata": {},
     "output_type": "display_data"
    },
    {
     "data": {
      "text/markdown": [
       "Window size = 3.94 λ | Overlap 0.67 | Rotor position 540 px"
      ],
      "text/plain": [
       "<IPython.core.display.Markdown object>"
      ]
     },
     "metadata": {},
     "output_type": "display_data"
    },
    {
     "data": {
      "application/vnd.jupyter.widget-view+json": {
       "model_id": "661d69f33ebb4b7c9a5ad2f44ae9bdcf",
       "version_major": 2,
       "version_minor": 0
      },
      "text/plain": [
       "make_ref:   0%|          | 0/128 [00:00<?, ?it/s]"
      ]
     },
     "metadata": {},
     "output_type": "display_data"
    },
    {
     "data": {
      "application/vnd.jupyter.widget-view+json": {
       "model_id": "047d516e331d400a878b9ec18f3af121",
       "version_major": 2,
       "version_minor": 0
      },
      "text/plain": [
       "beamform:   0%|          | 0/5 [00:00<?, ?it/s]"
      ]
     },
     "metadata": {},
     "output_type": "display_data"
    },
    {
     "data": {
      "application/vnd.jupyter.widget-view+json": {
       "model_id": "9bbbcc43935d4024882d74022ea21b42",
       "version_major": 2,
       "version_minor": 0
      },
      "text/plain": [
       "process:   0%|          | 0/128 [00:00<?, ?it/s]"
      ]
     },
     "metadata": {},
     "output_type": "display_data"
    },
    {
     "ename": "KeyboardInterrupt",
     "evalue": "",
     "output_type": "error",
     "traceback": [
      "\u001b[1;31m---------------------------------------------------------------------------\u001b[0m",
      "\u001b[1;31mKeyboardInterrupt\u001b[0m                         Traceback (most recent call last)",
      "Cell \u001b[1;32mIn[3], line 24\u001b[0m\n\u001b[0;32m     22\u001b[0m ref \u001b[38;5;241m=\u001b[39m make_ref(ref_path, ref_config, recompute\u001b[38;5;241m=\u001b[39mprms[\u001b[38;5;124m'\u001b[39m\u001b[38;5;124mredo_ref\u001b[39m\u001b[38;5;124m'\u001b[39m])\n\u001b[0;32m     23\u001b[0m bf_files \u001b[38;5;241m=\u001b[39m beamform(files, config, ref, recompute\u001b[38;5;241m=\u001b[39mprms[\u001b[38;5;124m'\u001b[39m\u001b[38;5;124mredo_bf\u001b[39m\u001b[38;5;124m'\u001b[39m])\n\u001b[1;32m---> 24\u001b[0m hil_all, disp_all, score_all \u001b[38;5;241m=\u001b[39m \u001b[43mprocess\u001b[49m\u001b[43m(\u001b[49m\u001b[43mbf_files\u001b[49m\u001b[43m,\u001b[49m\u001b[43m \u001b[49m\u001b[43mconfig\u001b[49m\u001b[43m,\u001b[49m\u001b[43m \u001b[49m\u001b[43mrecompute\u001b[49m\u001b[38;5;241;43m=\u001b[39;49m\u001b[43mprms\u001b[49m\u001b[43m[\u001b[49m\u001b[38;5;124;43m'\u001b[39;49m\u001b[38;5;124;43mredo_process\u001b[39;49m\u001b[38;5;124;43m'\u001b[39;49m\u001b[43m]\u001b[49m\u001b[43m)\u001b[49m\n\u001b[0;32m     26\u001b[0m \u001b[38;5;66;03m# Validating and saving data\u001b[39;00m\n\u001b[0;32m     27\u001b[0m disp_valid \u001b[38;5;241m=\u001b[39m disp_all\u001b[38;5;241m.\u001b[39mcopy()\n",
      "File \u001b[1;32md:\\Brice\\Python\\USV\\functions.py:393\u001b[0m, in \u001b[0;36mprocess\u001b[1;34m(bf_files, config, recompute, sep)\u001b[0m\n\u001b[0;32m    391\u001b[0m us \u001b[38;5;241m=\u001b[39m read_waveform(file, config, mode\u001b[38;5;241m=\u001b[39m\u001b[38;5;124m'\u001b[39m\u001b[38;5;124mbf\u001b[39m\u001b[38;5;124m'\u001b[39m) \u001b[38;5;66;03m# Ref already subtracted\u001b[39;00m\n\u001b[0;32m    392\u001b[0m hil_all\u001b[38;5;241m.\u001b[39mappend(hilbert(us, window, stride))\n\u001b[1;32m--> 393\u001b[0m disp, score \u001b[38;5;241m=\u001b[39m \u001b[43mdisplacement\u001b[49m\u001b[43m(\u001b[49m\u001b[43mus\u001b[49m\u001b[43m,\u001b[49m\u001b[43m \u001b[49m\u001b[43mwindow\u001b[49m\u001b[43m,\u001b[49m\u001b[43m \u001b[49m\u001b[43mstride\u001b[49m\u001b[43m,\u001b[49m\u001b[43m \u001b[49m\u001b[43mmax_disp\u001b[49m\u001b[43m)\u001b[49m\n\u001b[0;32m    394\u001b[0m disp_all\u001b[38;5;241m.\u001b[39mappend(disp)\n\u001b[0;32m    395\u001b[0m score_all\u001b[38;5;241m.\u001b[39mappend(score)\n",
      "File \u001b[1;32md:\\Brice\\Python\\USV\\functions.py:338\u001b[0m, in \u001b[0;36mdisplacement\u001b[1;34m(data, window, stride, max_disp)\u001b[0m\n\u001b[0;32m    335\u001b[0m     nsum \u001b[38;5;241m=\u001b[39m window \u001b[38;5;241m+\u001b[39m corrshift\n\u001b[0;32m    337\u001b[0m \u001b[38;5;66;03m# # # Normalising the signals\u001b[39;00m\n\u001b[1;32m--> 338\u001b[0m new_part \u001b[38;5;241m=\u001b[39m \u001b[43m(\u001b[49m\u001b[43mnew_part\u001b[49m\u001b[43m \u001b[49m\u001b[38;5;241;43m-\u001b[39;49m\u001b[43m \u001b[49m\u001b[43mtorch\u001b[49m\u001b[38;5;241;43m.\u001b[39;49m\u001b[43mnanmean\u001b[49m\u001b[43m(\u001b[49m\u001b[43mnew_part\u001b[49m\u001b[43m,\u001b[49m\u001b[43m \u001b[49m\u001b[43mdim\u001b[49m\u001b[38;5;241;43m=\u001b[39;49m\u001b[38;5;241;43m-\u001b[39;49m\u001b[38;5;241;43m1\u001b[39;49m\u001b[43m,\u001b[49m\u001b[43m \u001b[49m\u001b[43mkeepdim\u001b[49m\u001b[38;5;241;43m=\u001b[39;49m\u001b[38;5;28;43;01mTrue\u001b[39;49;00m\u001b[43m)\u001b[49m\u001b[43m)\u001b[49m\u001b[43m \u001b[49m\u001b[43m\\\u001b[49m\n\u001b[0;32m    339\u001b[0m \u001b[43m    \u001b[49m\u001b[38;5;241;43m/\u001b[39;49m\u001b[43m \u001b[49m\u001b[43mtorch\u001b[49m\u001b[38;5;241;43m.\u001b[39;49m\u001b[43mstd\u001b[49m\u001b[43m(\u001b[49m\u001b[43mnew_part\u001b[49m\u001b[43m,\u001b[49m\u001b[43m \u001b[49m\u001b[43mdim\u001b[49m\u001b[38;5;241;43m=\u001b[39;49m\u001b[38;5;241;43m-\u001b[39;49m\u001b[38;5;241;43m1\u001b[39;49m\u001b[43m,\u001b[49m\u001b[43m \u001b[49m\u001b[43munbiased\u001b[49m\u001b[38;5;241;43m=\u001b[39;49m\u001b[38;5;28;43;01mFalse\u001b[39;49;00m\u001b[43m,\u001b[49m\u001b[43m \u001b[49m\u001b[43mkeepdim\u001b[49m\u001b[38;5;241;43m=\u001b[39;49m\u001b[38;5;28;43;01mTrue\u001b[39;49;00m\u001b[43m)\u001b[49m\n\u001b[0;32m    340\u001b[0m old_part \u001b[38;5;241m=\u001b[39m (old_part \u001b[38;5;241m-\u001b[39m torch\u001b[38;5;241m.\u001b[39mnanmean(old_part, dim\u001b[38;5;241m=\u001b[39m\u001b[38;5;241m-\u001b[39m\u001b[38;5;241m1\u001b[39m, keepdim\u001b[38;5;241m=\u001b[39m\u001b[38;5;28;01mTrue\u001b[39;00m)) \\\n\u001b[0;32m    341\u001b[0m     \u001b[38;5;241m/\u001b[39m torch\u001b[38;5;241m.\u001b[39mstd(old_part, dim\u001b[38;5;241m=\u001b[39m\u001b[38;5;241m-\u001b[39m\u001b[38;5;241m1\u001b[39m, unbiased\u001b[38;5;241m=\u001b[39m\u001b[38;5;28;01mFalse\u001b[39;00m, keepdim\u001b[38;5;241m=\u001b[39m\u001b[38;5;28;01mTrue\u001b[39;00m)\n\u001b[0;32m    343\u001b[0m \u001b[38;5;66;03m# Convolving (correlating) on last dimension\u001b[39;00m\n",
      "File \u001b[1;32mc:\\Users\\saint-michel\\AppData\\Local\\Programs\\Python\\Python311\\Lib\\site-packages\\torch\\utils\\_device.py:79\u001b[0m, in \u001b[0;36mDeviceContext.__torch_function__\u001b[1;34m(self, func, types, args, kwargs)\u001b[0m\n\u001b[0;32m     77\u001b[0m \u001b[38;5;28;01mif\u001b[39;00m func \u001b[38;5;129;01min\u001b[39;00m _device_constructors() \u001b[38;5;129;01mand\u001b[39;00m kwargs\u001b[38;5;241m.\u001b[39mget(\u001b[38;5;124m'\u001b[39m\u001b[38;5;124mdevice\u001b[39m\u001b[38;5;124m'\u001b[39m) \u001b[38;5;129;01mis\u001b[39;00m \u001b[38;5;28;01mNone\u001b[39;00m:\n\u001b[0;32m     78\u001b[0m     kwargs[\u001b[38;5;124m'\u001b[39m\u001b[38;5;124mdevice\u001b[39m\u001b[38;5;124m'\u001b[39m] \u001b[38;5;241m=\u001b[39m \u001b[38;5;28mself\u001b[39m\u001b[38;5;241m.\u001b[39mdevice\n\u001b[1;32m---> 79\u001b[0m \u001b[38;5;28;01mreturn\u001b[39;00m \u001b[43mfunc\u001b[49m\u001b[43m(\u001b[49m\u001b[38;5;241;43m*\u001b[39;49m\u001b[43margs\u001b[49m\u001b[43m,\u001b[49m\u001b[43m \u001b[49m\u001b[38;5;241;43m*\u001b[39;49m\u001b[38;5;241;43m*\u001b[39;49m\u001b[43mkwargs\u001b[49m\u001b[43m)\u001b[49m\n",
      "\u001b[1;31mKeyboardInterrupt\u001b[0m: "
     ]
    }
   ],
   "source": [
    "# Use correct device to compute thingies\n",
    "torch.set_default_device(prms['device'])\n",
    "\n",
    "# Find all relevant acquisitions\n",
    "acq_paths = list(os.walk(prms['folder']))[0][1]\n",
    "acq_paths = [prms['folder'] + '/' + acq for acq in acq_paths if prms['acq_prefix'] in acq] # Subfolders of the main folder\n",
    "\n",
    "### Main programme\n",
    "for acq_path in acq_paths:\n",
    "    \n",
    "    if prms['ref_path'] is None: \n",
    "        ref_path = acq_path # Allows you to do \"self-references\"\n",
    "\n",
    "    # Fetching all files, updating config and displaying a few things\n",
    "    files = find_files(acq_path)\n",
    "    config = load_config(acq_path + '/config.mat')\n",
    "    ref_config = load_config(ref_path + '/config.mat')\n",
    "    config = update_config(config, prms, save_path=acq_path, ref_path=ref_path)\n",
    "    print_details(acq_path, config)\n",
    "\n",
    "    \n",
    "    ref = make_ref(ref_path, ref_config, recompute=prms['redo_ref'])\n",
    "    bf_files = beamform(files, config, ref, recompute=prms['redo_bf'])\n",
    "    hil_all, disp_all, score_all = process(bf_files, config, recompute=prms['redo_process'])\n",
    "\n",
    "    # Validating and saving data\n",
    "    disp_valid = disp_all.copy()\n",
    "    too_weak = (0.5*(hil_all[:,:-1,:] + hil_all[:,1:,:]) < config['min_hil']) \n",
    "    not_correlated = (score_all < config['min_corr_score'])\n",
    "    disp_valid[too_weak | not_correlated] = np.nan\n",
    "\n",
    "    # Compute velocity\n",
    "    velocity = np.nan * np.ones_like(disp_valid)\n",
    "    r_true = np.nan * np.ones(velocity.shape[-1]) \n",
    "    if prms['calib_path'] is not None:\n",
    "        with open(prms['calib_path']) as myfile:\n",
    "            printm(f'Computing velocity with {os.path.abspath(prms[\"calib_path\"])}')\n",
    "            calib = json.load(myfile)\n",
    "        r_true, velocity, _, _, _ = calibrate_one(calib, config, disp=disp_valid)\n",
    "\n",
    "    # Save results\n",
    "    np.savez(acq_path + '/processed', r_true=r_true, hil=hil_all, disp=disp_valid, velocity=velocity, ref=ref, score=score_all)"
   ]
  },
  {
   "cell_type": "code",
   "execution_count": null,
   "metadata": {},
   "outputs": [],
   "source": []
  }
 ],
 "metadata": {
  "kernelspec": {
   "display_name": "Python 3 (ipykernel)",
   "language": "python",
   "name": "python3"
  },
  "language_info": {
   "codemirror_mode": {
    "name": "ipython",
    "version": 3
   },
   "file_extension": ".py",
   "mimetype": "text/x-python",
   "name": "python",
   "nbconvert_exporter": "python",
   "pygments_lexer": "ipython3",
   "version": "3.11.9"
  }
 },
 "nbformat": 4,
 "nbformat_minor": 4
}
