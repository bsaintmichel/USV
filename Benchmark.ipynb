{
 "cells": [
  {
   "cell_type": "markdown",
   "metadata": {},
   "source": [
    "## Benchmark\n",
    "\n",
    "Compares the new data processing routine against the old one. Used as a sanity check to validate the new code."
   ]
  },
  {
   "cell_type": "code",
   "execution_count": null,
   "metadata": {},
   "outputs": [],
   "source": [
    "from functions import *\n",
    "import json\n",
    "import numpy as np\n",
    "import matplotlib.pyplot as plt\n",
    "from scipy.io import loadmat\n",
    "\n",
    "path = 'Data/gpt_20/'\n",
    "\n",
    "files = find_files(path,  ext='dat')\n",
    "config = json.load(open(path + '/config_calcul.json'))\n",
    "\n",
    "\n",
    "fh = open_all(files)\n",
    "maps = read_map_batch(fh, n_pts=640, batch_size=130)\n",
    "us = maps[128]\n",
    "close_all(fh)\n",
    "\n",
    "new_bf_files = find_files(path,  ext='dbf')\n",
    "old_bf_files = find_files(path + '/Speckles/', ext='dat')\n",
    "\n",
    "bfh = open_all(new_bf_files)\n",
    "bf_maps_new = read_map_batch(bfh, n_pts=640, batch_size=1, mode='dbf')\n",
    "close_all(bfh)\n",
    "\n",
    "with open(old_bf_files[0], 'rb') as myfile:\n",
    "    dat = np.frombuffer(myfile.read(), dtype=np.float32)\n",
    "bf_map_old = dat.reshape((config['nz'],config['nx']))"
   ]
  },
  {
   "cell_type": "markdown",
   "metadata": {},
   "source": [
    "### Checking beam forming delays\n",
    "\n",
    "The delays are rigorously the same as in the old code."
   ]
  },
  {
   "cell_type": "code",
   "execution_count": null,
   "metadata": {},
   "outputs": [],
   "source": [
    "t, i0, j0 = 128, 70, 175\n",
    "\n",
    "delays = compute_delays(config['time_us'], config['c'], config['dz'], config['fsample'], config['nchan_bf'])\n",
    "z_bf = np.arange(-config['nchan_bf'], config['nchan_bf'] + 1)\n",
    "\n",
    "fig, ax = plt.subplots()\n",
    "ax.imshow(maps[t])\n",
    "ax.plot(j0 + delays[:, j0], i0 + z_bf, 'm')\n",
    "ax.set_aspect('auto')\n",
    "ax.set_title('Checking delays');"
   ]
  },
  {
   "cell_type": "markdown",
   "metadata": {},
   "source": [
    "### Comparing old and new Beamforming\n",
    "\n",
    "I never managed to get _exactly_ the same values everywhere. There are bits of old code \"correcting\" strange values of the raw signal before beamforming it. I never saw these strange values, so I did not implement it. Could be the root cause of it.\n",
    "\n",
    "Also : what happens between ~500 and 540 pixels is normal : the old beamformed images were produced with a `pos_rotor = 530`, while the _actual_ data processing was done using `pos_rotor = 540`. The agreement between old and new data is a lot better if you reprocess the data with the \"BF\" value of `pos_rotor`. "
   ]
  },
  {
   "cell_type": "code",
   "execution_count": null,
   "metadata": {},
   "outputs": [],
   "source": [
    "%matplotlib widget\n",
    "fig, ax = plt.subplots(ncols=3, sharex=True, sharey=True)\n",
    "ax[0].imshow(bf_maps_new[0], vmin=-100, vmax=100)\n",
    "ax[1].imshow(bf_map_old*4096/2, vmin=-100, vmax=100)\n",
    "ax[2].imshow(bf_map_old/bf_maps_new[0]*4096/2, vmin=0.5, vmax=1.5)\n",
    "# ax.imshow(bf_single)\n",
    "# ax[0].plot(j0 + delays[:, j0], i0 + di, 'm')\n",
    "ax[0].set_title('BF maps : NEW')\n",
    "ax[1].set_title('BF maps : OLD')\n",
    "ax[0].set_aspect('auto')\n",
    "ax[1].set_aspect('auto')\n",
    "ax[2].set_aspect('auto')\n",
    "# ax.axis([0, nj, 0, ni]);"
   ]
  },
  {
   "cell_type": "markdown",
   "metadata": {},
   "source": [
    "### Benchmarking the displacements \n",
    "\n",
    "* I use the Hilbert intensity to decide if there is enough signal, the old code uses ... the local std of the signal ?\n",
    "* I use a FFT-based convolution / correlation to compute the displacement, the old code uses a (CUDA) regular correlation\n",
    "* The beamformed maps were initially slightly different, so also not completely unexpected to have slightly different results\n",
    "\n",
    "I never managed to get the results to be exactly identical but they are close enough to be usable."
   ]
  },
  {
   "cell_type": "code",
   "execution_count": null,
   "metadata": {},
   "outputs": [],
   "source": [
    "t = 10\n",
    "\n",
    "old_dat = loadmat(path + 'Dpl.mat')\n",
    "old_dpl = old_dat['Dpl']\n",
    "old_dpl[old_dpl > 1e4] = np.nan\n",
    "new_dat = np.load(path + '/processed.npz')\n",
    "new_dpl = new_dat['disp']\n",
    "\n",
    "%matplotlib widget\n",
    "fig, ax = plt.subplots(ncols=3, sharex=True, sharey=True)\n",
    "ax[0].imshow(new_dpl[:,t,:], vmin=0, vmax=1.5)\n",
    "ax[1].imshow(old_dpl[:,:,t], vmin=0, vmax=1.5)\n",
    "ax[2].imshow(new_dpl[:,t,:-2]/old_dpl[:,:,t], vmin=0, vmax=1.5)\n",
    "ax[0].set_title('Disp maps : NEW')\n",
    "ax[1].set_title('Disp maps : OLD')\n",
    "ax[0].set_aspect('auto')\n",
    "ax[1].set_aspect('auto')\n",
    "ax[2].set_aspect('auto')\n",
    "# ax.axis([0, nj, 0, ni]);"
   ]
  },
  {
   "cell_type": "markdown",
   "metadata": {},
   "source": [
    "### Displacement plot\n",
    "\n",
    "Old vs. new velocity profile. Somehow the old profile is shifted and dilated compare to the new one, but the overall aspect is very similar. These things can be corrected in the calibration."
   ]
  },
  {
   "cell_type": "code",
   "execution_count": null,
   "metadata": {},
   "outputs": [],
   "source": [
    "old_dpl_profile = np.nanmean(np.nanmean(old_dpl, axis=0), axis=-1)\n",
    "new_dpl_profile = np.nanmean(np.nanmean(new_dpl, axis=0), axis=+0)\n",
    "\n",
    "fig, ax = plt.subplots()\n",
    "ax.plot(old_dpl_profile, '+', color='gray', label='old processing')\n",
    "ax.plot(new_dpl_profile, 'x', color='crimson', label='new processing')\n",
    "ax.set_title('Displacement profiles averaged in z and t')\n",
    "ax.legend()"
   ]
  }
 ],
 "metadata": {
  "kernelspec": {
   "display_name": "Python 3",
   "language": "python",
   "name": "python3"
  },
  "language_info": {
   "codemirror_mode": {
    "name": "ipython",
    "version": 3
   },
   "file_extension": ".py",
   "mimetype": "text/x-python",
   "name": "python",
   "nbconvert_exporter": "python",
   "pygments_lexer": "ipython3",
   "version": "3.11.9"
  }
 },
 "nbformat": 4,
 "nbformat_minor": 2
}
