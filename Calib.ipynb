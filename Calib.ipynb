{
 "cells": [
  {
   "cell_type": "markdown",
   "metadata": {},
   "source": [
    "## Calibration\n",
    "\n",
    "Calibrates a series of experiments in a 'master folder'"
   ]
  },
  {
   "cell_type": "markdown",
   "metadata": {},
   "source": [
    "### General parameters"
   ]
  },
  {
   "cell_type": "code",
   "execution_count": null,
   "metadata": {},
   "outputs": [],
   "source": [
    "path = 'Data'\n",
    "\n",
    "calib = dict(\n",
    "    theta = 5.10,             # Transducer angle, in degrees\n",
    "    t_stator = 37.89 * 1e-6,  # Time at which the US enter the geometry (the fluid)\n",
    "    true_gap = 2.00 * 1e-3,      # True (corrected) gap\n",
    "    c0 = 1500,                # Sound velocity in the calibration medium\n",
    "    r_ext = 25 * 1e-3,        # Outer (stator) radius, in mm\n",
    "    r_int = 23 * 1e-3,        # Inner (rotor) radius, in mm\n",
    ")"
   ]
  },
  {
   "cell_type": "markdown",
   "metadata": {},
   "source": [
    "### Imports, finding folders"
   ]
  },
  {
   "cell_type": "code",
   "execution_count": null,
   "metadata": {},
   "outputs": [],
   "source": [
    "import os\n",
    "import json\n",
    "import numpy as np\n",
    "from functions import calibrate_one\n",
    "\n",
    "subfolders = list(os.walk(path))[0][1]\n",
    "gpt_fun = lambda fold: float(fold.split('_')[1])\n",
    "subfolders = sorted(subfolders, key=gpt_fun)\n",
    "subfolders = [path + '/' + sf for sf in subfolders]\n",
    "gpts = [gpt_fun(sf) for sf in subfolders]\n",
    "\n",
    "print(f'Found in `{path}`')\n",
    "for no, sf in enumerate(subfolders): print(f'{no:3d} : {sf}')"
   ]
  },
  {
   "cell_type": "markdown",
   "metadata": {},
   "source": [
    "### Calibration _per se_\n",
    "\n",
    "There is a factor 1/2 in the velocity determination, present at two places : \n",
    "\n",
    "```python\n",
    "    ax.plot(r_true/calib['true_gap'], \n",
    "            v_profile / v_max / 2, ...)\n",
    "```\n",
    "\n",
    "and\n",
    "\n",
    "```python\n",
    "    lines[no].set_ydata(v_profile / 2 / v_max)       \n",
    "```\n",
    "\n",
    "This factor was also present in Sébastien / Vincent / Thomas's code. I do not think this factor should be there, but for the sake of continuity I am keeping it."
   ]
  },
  {
   "cell_type": "code",
   "execution_count": null,
   "metadata": {},
   "outputs": [],
   "source": [
    "import matplotlib.cm as cm\n",
    "import matplotlib.pyplot as plt\n",
    "from matplotlib.patches import Rectangle\n",
    "from ipywidgets import interact\n",
    "\n",
    "\n",
    "%matplotlib widget\n",
    "\n",
    "fig, ax = plt.subplots()\n",
    "cm = cm.magma\n",
    "cval = np.array(gpts)/max(gpts)/1.1\n",
    "lines = []\n",
    "\n",
    "# Run the routine once with \"default\" values, initialize line objects + static plots\n",
    "for no, sf in enumerate(subfolders):\n",
    "    with open(sf + '/config_calcul.json') as myfile:\n",
    "        config = json.load(myfile)\n",
    "    r_true, _, _, v_profile, _ = calibrate_one(calib, config, folder=sf)\n",
    "    v_max = gpts[no] * calib['true_gap']\n",
    "    ln, = ax.plot(r_true/calib['true_gap'], \n",
    "                  v_profile / v_max / 2, # NOTE : see markdown above\n",
    "                  linestyle='', color=cm(cval[no]),\n",
    "                  linewidth=0.5, marker='s', markersize=4)\n",
    "    lines.append(ln)\n",
    "\n",
    "rect = Rectangle(xy=(1-calib['true_gap']/(calib['r_ext']-calib['r_int']),0), \n",
    "                 width=calib['true_gap']/(calib['r_ext']-calib['r_int']), \n",
    "                 height=1, \n",
    "                 color='lime', \n",
    "                 alpha=0.25)\n",
    "\n",
    "lref, = ax.plot([0,1],[1,0], 'k:')\n",
    "ax.add_patch(rect)\n",
    "tit = ax.set_title(f'Calbration : theta = {calib[\"theta\"]:.2f} deg, t0 = {calib[\"t_stator\"]*1e6} µs, true_gap = {calib[\"true_gap\"]*1e3} mm')\n",
    "\n",
    "# Figure formatting\n",
    "ax.plot([-0.5, 1.5], [0, 0], 'k--')\n",
    "ax.plot([-0.5, 1.5], [1, 1], 'k--')\n",
    "ax.axis((-0.1, 1.1, -0.1, 1.1))\n",
    "ax.set_xlabel('$r / (R_e - R_i)$')\n",
    "ax.set_ylabel('$v / v_{max}$')\n",
    "\n",
    "# Update function to be called by the widget\n",
    "def update(theta_deg, t_stator_us, c0, true_gap_mm):\n",
    "    calib['theta'] = theta_deg\n",
    "    calib['t_stator'] = t_stator_us * 1e-6\n",
    "    calib['c0'] = c0\n",
    "    calib['true_gap'] = true_gap_mm * 1e-3\n",
    "    \n",
    "\n",
    "    rect.set_width(calib['true_gap']/(calib['r_ext']-calib['r_int']))\n",
    "    rect.set_xy((1-calib['true_gap']/(calib['r_ext']-calib['r_int']),0))\n",
    "    lref.set_xdata((1-calib['true_gap']/(calib['r_ext']-calib['r_int']),1))\n",
    "    tit.set_text(f'Calibration : theta = {theta_deg:.2f} deg, t0 = {t_stator_us:.2f} µs, true_gap = {true_gap_mm:.2f} mm')\n",
    "\n",
    "    for no, sf in enumerate(subfolders):\n",
    "        with open(sf + '/config_calcul.json') as myfile:\n",
    "            config = json.load(myfile)\n",
    "        r_true, _, _, v_profile, _ = calibrate_one(calib, config, folder=sf)\n",
    "        v_max = gpts[no] * (calib['r_ext'] - calib['r_int'])\n",
    "        lines[no].set_xdata(r_true / (calib['r_ext'] - calib['r_int']))\n",
    "        lines[no].set_ydata(v_profile / 2 / v_max) # NOTE : see markdown above\n",
    "\n",
    "# Interactive widget\n",
    "widget = interact(update, \n",
    "         theta_deg=(calib['theta']-1.5,\n",
    "                    calib['theta']+1.5,0.025), \n",
    "         c0=(calib['c0']-200,\n",
    "             calib['c0']+205,5), \n",
    "         t_stator_us=(calib['t_stator']*1e6-0.5,\n",
    "                      calib['t_stator']*1e6+0.51,0.01), \n",
    "         true_gap_mm=(calib['true_gap']*1e3-0.10,\n",
    "                      calib['true_gap']*1e3+0.101,0.01));"
   ]
  },
  {
   "cell_type": "markdown",
   "metadata": {},
   "source": [
    "### Saving the calibration"
   ]
  },
  {
   "cell_type": "code",
   "execution_count": null,
   "metadata": {},
   "outputs": [],
   "source": [
    "# Gathering info from widgets\n",
    "sliders = widget.widget.children\n",
    "calib['theta'] = sliders[0].value\n",
    "calib['t_stator'] = sliders[1].value * 1e-6\n",
    "calib['c'] = sliders[2].value\n",
    "calib['true_gap'] = sliders[3].value * 1e-3\n",
    "calib['r_true'] = r_true.tolist()\n",
    "\n",
    "# Saving calibration\n",
    "with open(path + '/gpt_val.json', 'w') as myfile:\n",
    "    print(f'Saving `gpt_val.json` in folder {os.path.abspath(path)}')\n",
    "    json.dump(calib, myfile)"
   ]
  }
 ],
 "metadata": {
  "kernelspec": {
   "display_name": "Python 3 (ipykernel)",
   "language": "python",
   "name": "python3"
  },
  "language_info": {
   "codemirror_mode": {
    "name": "ipython",
    "version": 3
   },
   "file_extension": ".py",
   "mimetype": "text/x-python",
   "name": "python",
   "nbconvert_exporter": "python",
   "pygments_lexer": "ipython3",
   "version": "3.11.9"
  }
 },
 "nbformat": 4,
 "nbformat_minor": 4
}
